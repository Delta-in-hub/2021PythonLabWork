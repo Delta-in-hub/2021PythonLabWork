{
 "cells": [
  {
   "cell_type": "markdown",
   "metadata": {},
   "source": [
    "# **实验题目1：空气质量查询程序**\n",
    "\n",
    "## 实验内容：\n",
    "\n",
    "1. 实现一个GUI界面，用户可以输入城市名，程序需要获取此城市当前的空气质量数据，以图文并茂的方式展示在GUI界面中，空气质量数据至少包括AQI（空气质量指数），PM2.5，PM10三个数据。（可选择性展示CO，NO2，SO2，O3等浓度数据）。"
   ]
  },
  {
   "cell_type": "code",
   "execution_count": 1,
   "metadata": {},
   "outputs": [],
   "source": [
    "# https://geoapi.qweather.com/v2/city/lookup?location=%E6%B2%88%E9%98%B3&key=2a3820bad6a94d4a891bfbe1dc469ffa&gzip=n\n",
    "# https://dev.qweather.com/docs/api/geo/city-lookup/\n",
    "\n",
    "# https://devapi.qweather.com/v7/air/now?location=101070101&key=2a3820bad6a94d4a891bfbe1dc469ffa&gzip=n\n",
    "# https://dev.qweather.com/docs/api/air/air-now/\n"
   ]
  },
  {
   "cell_type": "code",
   "execution_count": 2,
   "metadata": {},
   "outputs": [],
   "source": [
    "import requests\n",
    "import json5\n",
    "\n",
    "keyInfo = \"&key=2a3820bad6a94d4a891bfbe1dc469ffa&gzip=n\"\n"
   ]
  },
  {
   "cell_type": "code",
   "execution_count": 3,
   "metadata": {},
   "outputs": [],
   "source": [
    "def getCityId(cityName: str):\n",
    "    r = requests.get(\n",
    "        f\"https://geoapi.qweather.com/v2/city/lookup?location={cityName}{keyInfo}\")\n",
    "    if(r.status_code == 200):\n",
    "        res = json5.loads(r.content.decode())\n",
    "        if res['code'] != '200':\n",
    "            return None\n",
    "        # print(res)\n",
    "        return (res[\"location\"][0]['name'], res[\"location\"][0]['id'])\n",
    "    else:\n",
    "        return None\n",
    "\n",
    "\n",
    "def getAirQuality(locationId: str):\n",
    "    r = requests.get(\n",
    "        f\"https://devapi.qweather.com/v7/air/now?location={locationId}{keyInfo}\")\n",
    "    if(r.status_code == 200):\n",
    "        res = json5.loads(r.content.decode())\n",
    "        if res['code'] != '200':\n",
    "            return None\n",
    "        # print(res)\n",
    "        # return (res[\"location\"][0]['name'], res[\"location\"][0]['id'])\n",
    "        return res['now']\n",
    "    else:\n",
    "        return None\n",
    "    pass\n"
   ]
  },
  {
   "cell_type": "code",
   "execution_count": 4,
   "metadata": {},
   "outputs": [
    {
     "name": "stdout",
     "output_type": "stream",
     "text": [
      "{'pubTime': '2021-10-17T15:00+08:00', 'aqi': '34', 'level': '1', 'category': '优', 'primary': 'NA', 'pm10': '34', 'pm2p5': '11', 'no2': '14', 'so2': '9', 'co': '0.4', 'o3': '59'}\n"
     ]
    }
   ],
   "source": [
    "res = getCityId(\"沈阳\")\n",
    "\n",
    "if res:\n",
    "    r = getAirQuality(res[1])\n",
    "print(r)\n"
   ]
  }
 ],
 "metadata": {
  "interpreter": {
   "hash": "4ddc0c6af7fa7fb66a7b89f3cb5c54f2795b4a455cebd37e3919becb8db6994b"
  },
  "kernelspec": {
   "display_name": "Python 3.9.6 64-bit",
   "name": "python3"
  },
  "language_info": {
   "codemirror_mode": {
    "name": "ipython",
    "version": 3
   },
   "file_extension": ".py",
   "mimetype": "text/x-python",
   "name": "python",
   "nbconvert_exporter": "python",
   "pygments_lexer": "ipython3",
   "version": "3.9.6"
  },
  "orig_nbformat": 4
 },
 "nbformat": 4,
 "nbformat_minor": 2
}
