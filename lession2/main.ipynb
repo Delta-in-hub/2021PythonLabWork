{
 "cells": [
  {
   "cell_type": "markdown",
   "metadata": {},
   "source": [
    "# **实验题目2：美国总统大选数据分析**\n",
    "\n",
    "实验内容：现有一份美国大选捐款的统计数据，根据给出的数据，分析数据并实现以下要求：\n",
    "\n",
    "1、统计各个州的捐款总额，并在美国地图上画出各州捐款总额的热度图（heatmap），颜色越深的州代表捐款额越多，要求图表美观易懂。\n",
    "\n",
    "2、统计获得捐赠额最多的三位候选人的捐赠额变化趋势，使用折线图展示，横轴表示时间，纵轴表示捐赠额，要求图表美观易懂。\n",
    "\n",
    "3、分析出获得捐款额最多的候选人，然后将此候选人的捐赠者的姓名画成词云图。"
   ]
  },
  {
   "cell_type": "code",
   "execution_count": 1,
   "metadata": {},
   "outputs": [],
   "source": [
    "import pandas as pd\n",
    "import numpy as np"
   ]
  },
  {
   "cell_type": "code",
   "execution_count": 2,
   "metadata": {},
   "outputs": [],
   "source": [
    "import seaborn as sb"
   ]
  },
  {
   "cell_type": "code",
   "execution_count": 3,
   "metadata": {},
   "outputs": [],
   "source": [
    "sb.set()"
   ]
  },
  {
   "cell_type": "code",
   "execution_count": 4,
   "metadata": {},
   "outputs": [
    {
     "name": "stderr",
     "output_type": "stream",
     "text": [
      "C:\\Users\\Delta\\AppData\\Local\\Programs\\Python\\Python39\\lib\\site-packages\\IPython\\core\\interactiveshell.py:3441: DtypeWarning: Columns (10,15,16,18) have mixed types.Specify dtype option on import or set low_memory=False.\n",
      "  exec(code_obj, self.user_global_ns, self.user_ns)\n"
     ]
    }
   ],
   "source": [
    "originData = pd.read_csv(\n",
    "    \"data/itcont_2020_20200722_20200820.txt\", sep='|')\n"
   ]
  },
  {
   "cell_type": "code",
   "execution_count": 5,
   "metadata": {},
   "outputs": [
    {
     "data": {
      "text/html": [
       "<div>\n",
       "<style scoped>\n",
       "    .dataframe tbody tr th:only-of-type {\n",
       "        vertical-align: middle;\n",
       "    }\n",
       "\n",
       "    .dataframe tbody tr th {\n",
       "        vertical-align: top;\n",
       "    }\n",
       "\n",
       "    .dataframe thead th {\n",
       "        text-align: right;\n",
       "    }\n",
       "</style>\n",
       "<table border=\"1\" class=\"dataframe\">\n",
       "  <thead>\n",
       "    <tr style=\"text-align: right;\">\n",
       "      <th></th>\n",
       "      <th>CMTE_ID</th>\n",
       "      <th>AMNDT_IND</th>\n",
       "      <th>RPT_TP</th>\n",
       "      <th>TRANSACTION_PGI</th>\n",
       "      <th>IMAGE_NUM</th>\n",
       "      <th>TRANSACTION_TP</th>\n",
       "      <th>ENTITY_TP</th>\n",
       "      <th>NAME</th>\n",
       "      <th>CITY</th>\n",
       "      <th>STATE</th>\n",
       "      <th>...</th>\n",
       "      <th>EMPLOYER</th>\n",
       "      <th>OCCUPATION</th>\n",
       "      <th>TRANSACTION_DT</th>\n",
       "      <th>TRANSACTION_AMT</th>\n",
       "      <th>OTHER_ID</th>\n",
       "      <th>TRAN_ID</th>\n",
       "      <th>FILE_NUM</th>\n",
       "      <th>MEMO_CD</th>\n",
       "      <th>MEMO_TEXT</th>\n",
       "      <th>SUB_ID</th>\n",
       "    </tr>\n",
       "  </thead>\n",
       "  <tbody>\n",
       "    <tr>\n",
       "      <th>0</th>\n",
       "      <td>C00701888</td>\n",
       "      <td>A</td>\n",
       "      <td>M8</td>\n",
       "      <td>P</td>\n",
       "      <td>202009149267170153</td>\n",
       "      <td>10</td>\n",
       "      <td>IND</td>\n",
       "      <td>BAUMGART, STEPHEN</td>\n",
       "      <td>LOS GATOS</td>\n",
       "      <td>CA</td>\n",
       "      <td>...</td>\n",
       "      <td>VARIAN MEDICAL SYSTEMS</td>\n",
       "      <td>SYSTEMS ENGINEER PHYSICIST</td>\n",
       "      <td>7222020</td>\n",
       "      <td>500</td>\n",
       "      <td>NaN</td>\n",
       "      <td>12885178</td>\n",
       "      <td>1437664</td>\n",
       "      <td>NaN</td>\n",
       "      <td>* EARMARKED CONTRIBUTION: SEE BELOW</td>\n",
       "      <td>4092320201849287519</td>\n",
       "    </tr>\n",
       "    <tr>\n",
       "      <th>1</th>\n",
       "      <td>C00701888</td>\n",
       "      <td>A</td>\n",
       "      <td>M8</td>\n",
       "      <td>P</td>\n",
       "      <td>202009149267170154</td>\n",
       "      <td>10</td>\n",
       "      <td>IND</td>\n",
       "      <td>HELBERG, JACOB</td>\n",
       "      <td>SAN FRANCISCO</td>\n",
       "      <td>CA</td>\n",
       "      <td>...</td>\n",
       "      <td>STANFORD CYBER POLICY CENTER</td>\n",
       "      <td>SENIOR ADVISOR</td>\n",
       "      <td>7232020</td>\n",
       "      <td>250000</td>\n",
       "      <td>NaN</td>\n",
       "      <td>12854698</td>\n",
       "      <td>1437664</td>\n",
       "      <td>NaN</td>\n",
       "      <td>NaN</td>\n",
       "      <td>4092320201849287521</td>\n",
       "    </tr>\n",
       "    <tr>\n",
       "      <th>2</th>\n",
       "      <td>C00701888</td>\n",
       "      <td>A</td>\n",
       "      <td>M8</td>\n",
       "      <td>P</td>\n",
       "      <td>202009149267170135</td>\n",
       "      <td>10</td>\n",
       "      <td>IND</td>\n",
       "      <td>CONSIGLI, ANTHONY</td>\n",
       "      <td>MILFORD</td>\n",
       "      <td>MA</td>\n",
       "      <td>...</td>\n",
       "      <td>WHITEWOOD VENTURES, LLC</td>\n",
       "      <td>CHIEF EXECUTIVE OFFICER</td>\n",
       "      <td>7312020</td>\n",
       "      <td>25000</td>\n",
       "      <td>NaN</td>\n",
       "      <td>14260296</td>\n",
       "      <td>1437664</td>\n",
       "      <td>X</td>\n",
       "      <td>NaN</td>\n",
       "      <td>4092320201849287464</td>\n",
       "    </tr>\n",
       "    <tr>\n",
       "      <th>3</th>\n",
       "      <td>C00701888</td>\n",
       "      <td>A</td>\n",
       "      <td>M8</td>\n",
       "      <td>P</td>\n",
       "      <td>202009149267170136</td>\n",
       "      <td>10</td>\n",
       "      <td>IND</td>\n",
       "      <td>POTASH, ANDREW</td>\n",
       "      <td>MAMARONECK</td>\n",
       "      <td>NY</td>\n",
       "      <td>...</td>\n",
       "      <td>DISTINGUISHED PROGRAMS INSURANCE</td>\n",
       "      <td>CHIEF EXECUTIVE OFFICER</td>\n",
       "      <td>7282020</td>\n",
       "      <td>100000</td>\n",
       "      <td>NaN</td>\n",
       "      <td>12885744</td>\n",
       "      <td>1437664</td>\n",
       "      <td>NaN</td>\n",
       "      <td>NaN</td>\n",
       "      <td>4092320201849287468</td>\n",
       "    </tr>\n",
       "    <tr>\n",
       "      <th>4</th>\n",
       "      <td>C00701888</td>\n",
       "      <td>A</td>\n",
       "      <td>M8</td>\n",
       "      <td>P</td>\n",
       "      <td>202009149267170155</td>\n",
       "      <td>10</td>\n",
       "      <td>IND</td>\n",
       "      <td>WEINER, STEPHEN R.</td>\n",
       "      <td>BOSTON</td>\n",
       "      <td>MA</td>\n",
       "      <td>...</td>\n",
       "      <td>S.R. WEINER AND ASSOCIATES</td>\n",
       "      <td>DEVELOPER</td>\n",
       "      <td>7282020</td>\n",
       "      <td>25000</td>\n",
       "      <td>NaN</td>\n",
       "      <td>12885619</td>\n",
       "      <td>1437664</td>\n",
       "      <td>NaN</td>\n",
       "      <td>NaN</td>\n",
       "      <td>4092320201849287525</td>\n",
       "    </tr>\n",
       "  </tbody>\n",
       "</table>\n",
       "<p>5 rows × 21 columns</p>\n",
       "</div>"
      ],
      "text/plain": [
       "     CMTE_ID AMNDT_IND RPT_TP TRANSACTION_PGI           IMAGE_NUM  \\\n",
       "0  C00701888         A     M8               P  202009149267170153   \n",
       "1  C00701888         A     M8               P  202009149267170154   \n",
       "2  C00701888         A     M8               P  202009149267170135   \n",
       "3  C00701888         A     M8               P  202009149267170136   \n",
       "4  C00701888         A     M8               P  202009149267170155   \n",
       "\n",
       "  TRANSACTION_TP ENTITY_TP                NAME           CITY STATE  ...  \\\n",
       "0             10       IND   BAUMGART, STEPHEN      LOS GATOS    CA  ...   \n",
       "1             10       IND      HELBERG, JACOB  SAN FRANCISCO    CA  ...   \n",
       "2             10       IND   CONSIGLI, ANTHONY        MILFORD    MA  ...   \n",
       "3             10       IND      POTASH, ANDREW     MAMARONECK    NY  ...   \n",
       "4             10       IND  WEINER, STEPHEN R.         BOSTON    MA  ...   \n",
       "\n",
       "                           EMPLOYER                  OCCUPATION  \\\n",
       "0            VARIAN MEDICAL SYSTEMS  SYSTEMS ENGINEER PHYSICIST   \n",
       "1      STANFORD CYBER POLICY CENTER              SENIOR ADVISOR   \n",
       "2           WHITEWOOD VENTURES, LLC     CHIEF EXECUTIVE OFFICER   \n",
       "3  DISTINGUISHED PROGRAMS INSURANCE     CHIEF EXECUTIVE OFFICER   \n",
       "4        S.R. WEINER AND ASSOCIATES                   DEVELOPER   \n",
       "\n",
       "  TRANSACTION_DT  TRANSACTION_AMT  OTHER_ID   TRAN_ID FILE_NUM  MEMO_CD  \\\n",
       "0        7222020              500       NaN  12885178  1437664      NaN   \n",
       "1        7232020           250000       NaN  12854698  1437664      NaN   \n",
       "2        7312020            25000       NaN  14260296  1437664        X   \n",
       "3        7282020           100000       NaN  12885744  1437664      NaN   \n",
       "4        7282020            25000       NaN  12885619  1437664      NaN   \n",
       "\n",
       "                             MEMO_TEXT               SUB_ID  \n",
       "0  * EARMARKED CONTRIBUTION: SEE BELOW  4092320201849287519  \n",
       "1                                  NaN  4092320201849287521  \n",
       "2                                  NaN  4092320201849287464  \n",
       "3                                  NaN  4092320201849287468  \n",
       "4                                  NaN  4092320201849287525  \n",
       "\n",
       "[5 rows x 21 columns]"
      ]
     },
     "execution_count": 5,
     "metadata": {},
     "output_type": "execute_result"
    }
   ],
   "source": [
    "originData.head()"
   ]
  },
  {
   "cell_type": "code",
   "execution_count": 6,
   "metadata": {},
   "outputs": [
    {
     "name": "stdout",
     "output_type": "stream",
     "text": [
      "Index(['CMTE_ID', 'AMNDT_IND', 'RPT_TP', 'TRANSACTION_PGI', 'IMAGE_NUM',\n",
      "       'TRANSACTION_TP', 'ENTITY_TP', 'NAME', 'CITY', 'STATE', 'ZIP_CODE',\n",
      "       'EMPLOYER', 'OCCUPATION', 'TRANSACTION_DT', 'TRANSACTION_AMT',\n",
      "       'OTHER_ID', 'TRAN_ID', 'FILE_NUM', 'MEMO_CD', 'MEMO_TEXT', 'SUB_ID'],\n",
      "      dtype='object')\n"
     ]
    }
   ],
   "source": [
    "print(originData.columns)"
   ]
  },
  {
   "cell_type": "code",
   "execution_count": 9,
   "metadata": {},
   "outputs": [
    {
     "name": "stdout",
     "output_type": "stream",
     "text": [
      "<class 'pandas.core.frame.DataFrame'>\n",
      "RangeIndex: 1955607 entries, 0 to 1955606\n",
      "Data columns (total 2 columns):\n",
      " #   Column           Dtype \n",
      "---  ------           ----- \n",
      " 0   STATE            object\n",
      " 1   TRANSACTION_AMT  int64 \n",
      "dtypes: int64(1), object(1)\n",
      "memory usage: 29.8+ MB\n"
     ]
    }
   ],
   "source": [
    "stateAmt =  originData[['STATE', 'TRANSACTION_AMT']]\n",
    "stateAmt.info()"
   ]
  },
  {
   "cell_type": "code",
   "execution_count": 32,
   "metadata": {},
   "outputs": [],
   "source": [
    "doantionPerState = stateAmt.groupby('STATE')['TRANSACTION_AMT'].sum()"
   ]
  },
  {
   "cell_type": "code",
   "execution_count": 34,
   "metadata": {},
   "outputs": [
    {
     "data": {
      "text/plain": [
       "STATE\n",
       "AA       10883\n",
       "AE       41439\n",
       "AK      785915\n",
       "AL     1648404\n",
       "AP       14659\n",
       "        ...   \n",
       "WA    10685406\n",
       "WI     4792556\n",
       "WV      446445\n",
       "WY      735443\n",
       "ZZ      423546\n",
       "Name: TRANSACTION_AMT, Length: 62, dtype: int64"
      ]
     },
     "execution_count": 34,
     "metadata": {},
     "output_type": "execute_result"
    }
   ],
   "source": [
    "doantionPerState"
   ]
  },
  {
   "cell_type": "markdown",
   "metadata": {},
   "source": [
    "## 统计各个州的捐款总额，并在美国地图上画出各州捐款总额的热度图（heatmap），颜色越深的州代表捐款额越多，要求图表美观易懂。"
   ]
  },
  {
   "cell_type": "code",
   "execution_count": null,
   "metadata": {},
   "outputs": [],
   "source": []
  }
 ],
 "metadata": {
  "interpreter": {
   "hash": "4ddc0c6af7fa7fb66a7b89f3cb5c54f2795b4a455cebd37e3919becb8db6994b"
  },
  "kernelspec": {
   "display_name": "Python 3.9.6 64-bit",
   "name": "python3"
  },
  "language_info": {
   "codemirror_mode": {
    "name": "ipython",
    "version": 3
   },
   "file_extension": ".py",
   "mimetype": "text/x-python",
   "name": "python",
   "nbconvert_exporter": "python",
   "pygments_lexer": "ipython3",
   "version": "3.9.6"
  },
  "orig_nbformat": 4
 },
 "nbformat": 4,
 "nbformat_minor": 2
}
